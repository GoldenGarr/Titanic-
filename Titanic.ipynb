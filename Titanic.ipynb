{
 "cells": [
  {
   "cell_type": "code",
   "execution_count": 1,
   "id": "bae32de9",
   "metadata": {},
   "outputs": [],
   "source": [
    "import warnings\n",
    "\n",
    "warnings.filterwarnings('ignore')\n",
    "\n",
    "import pandas as pd\n",
    "import numpy as np\n",
    "import matplotlib.pyplot as plt\n",
    "import seaborn as sns"
   ]
  },
  {
   "cell_type": "code",
   "execution_count": 2,
   "id": "f597a404",
   "metadata": {},
   "outputs": [],
   "source": [
    "import matplotlib as mlp\n",
    "\n",
    "mlp.rcParams['lines.linewidth'] = 5\n",
    "\n",
    "mlp.rcParams['xtick.major.size'] = 15\n",
    "mlp.rcParams['xtick.major.width'] = 2\n",
    "mlp.rcParams['xtick.labelsize'] = 15\n",
    "mlp.rcParams['xtick.color'] = '#4DFC2D'\n",
    "\n",
    "mlp.rcParams['ytick.major.size'] = 15\n",
    "mlp.rcParams['ytick.major.width'] = 2\n",
    "mlp.rcParams['ytick.labelsize'] = 15\n",
    "mlp.rcParams['ytick.color'] = '#4DFC2D'\n",
    "\n",
    "mlp.rcParams['axes.labelsize'] = 20\n",
    "mlp.rcParams['axes.titlesize'] = 20\n",
    "mlp.rcParams['axes.titlecolor'] = '#ED6919'\n",
    "mlp.rcParams['axes.labelcolor'] = '#ED6919'"
   ]
  },
  {
   "cell_type": "code",
   "execution_count": 74,
   "id": "c3ec9516",
   "metadata": {},
   "outputs": [
    {
     "data": {
      "text/html": [
       "<div>\n",
       "<style scoped>\n",
       "    .dataframe tbody tr th:only-of-type {\n",
       "        vertical-align: middle;\n",
       "    }\n",
       "\n",
       "    .dataframe tbody tr th {\n",
       "        vertical-align: top;\n",
       "    }\n",
       "\n",
       "    .dataframe thead th {\n",
       "        text-align: right;\n",
       "    }\n",
       "</style>\n",
       "<table border=\"1\" class=\"dataframe\">\n",
       "  <thead>\n",
       "    <tr style=\"text-align: right;\">\n",
       "      <th></th>\n",
       "      <th>Survived</th>\n",
       "      <th>Pclass</th>\n",
       "      <th>Name</th>\n",
       "      <th>Sex</th>\n",
       "      <th>Age</th>\n",
       "      <th>SibSp</th>\n",
       "      <th>Parch</th>\n",
       "      <th>Ticket</th>\n",
       "      <th>Fare</th>\n",
       "      <th>Cabin</th>\n",
       "      <th>Embarked</th>\n",
       "    </tr>\n",
       "  </thead>\n",
       "  <tbody>\n",
       "    <tr>\n",
       "      <th>0</th>\n",
       "      <td>0</td>\n",
       "      <td>3</td>\n",
       "      <td>Braund, Mr. Owen Harris</td>\n",
       "      <td>male</td>\n",
       "      <td>22.0</td>\n",
       "      <td>1</td>\n",
       "      <td>0</td>\n",
       "      <td>A/5 21171</td>\n",
       "      <td>7.2500</td>\n",
       "      <td>NaN</td>\n",
       "      <td>S</td>\n",
       "    </tr>\n",
       "    <tr>\n",
       "      <th>1</th>\n",
       "      <td>1</td>\n",
       "      <td>1</td>\n",
       "      <td>Cumings, Mrs. John Bradley (Florence Briggs Th...</td>\n",
       "      <td>female</td>\n",
       "      <td>38.0</td>\n",
       "      <td>1</td>\n",
       "      <td>0</td>\n",
       "      <td>PC 17599</td>\n",
       "      <td>71.2833</td>\n",
       "      <td>C85</td>\n",
       "      <td>C</td>\n",
       "    </tr>\n",
       "    <tr>\n",
       "      <th>2</th>\n",
       "      <td>1</td>\n",
       "      <td>3</td>\n",
       "      <td>Heikkinen, Miss. Laina</td>\n",
       "      <td>female</td>\n",
       "      <td>26.0</td>\n",
       "      <td>0</td>\n",
       "      <td>0</td>\n",
       "      <td>STON/O2. 3101282</td>\n",
       "      <td>7.9250</td>\n",
       "      <td>NaN</td>\n",
       "      <td>S</td>\n",
       "    </tr>\n",
       "    <tr>\n",
       "      <th>3</th>\n",
       "      <td>1</td>\n",
       "      <td>1</td>\n",
       "      <td>Futrelle, Mrs. Jacques Heath (Lily May Peel)</td>\n",
       "      <td>female</td>\n",
       "      <td>35.0</td>\n",
       "      <td>1</td>\n",
       "      <td>0</td>\n",
       "      <td>113803</td>\n",
       "      <td>53.1000</td>\n",
       "      <td>C123</td>\n",
       "      <td>S</td>\n",
       "    </tr>\n",
       "    <tr>\n",
       "      <th>4</th>\n",
       "      <td>0</td>\n",
       "      <td>3</td>\n",
       "      <td>Allen, Mr. William Henry</td>\n",
       "      <td>male</td>\n",
       "      <td>35.0</td>\n",
       "      <td>0</td>\n",
       "      <td>0</td>\n",
       "      <td>373450</td>\n",
       "      <td>8.0500</td>\n",
       "      <td>NaN</td>\n",
       "      <td>S</td>\n",
       "    </tr>\n",
       "  </tbody>\n",
       "</table>\n",
       "</div>"
      ],
      "text/plain": [
       "   Survived  Pclass                                               Name  \\\n",
       "0         0       3                            Braund, Mr. Owen Harris   \n",
       "1         1       1  Cumings, Mrs. John Bradley (Florence Briggs Th...   \n",
       "2         1       3                             Heikkinen, Miss. Laina   \n",
       "3         1       1       Futrelle, Mrs. Jacques Heath (Lily May Peel)   \n",
       "4         0       3                           Allen, Mr. William Henry   \n",
       "\n",
       "      Sex   Age  SibSp  Parch            Ticket     Fare Cabin Embarked  \n",
       "0    male  22.0      1      0         A/5 21171   7.2500   NaN        S  \n",
       "1  female  38.0      1      0          PC 17599  71.2833   C85        C  \n",
       "2  female  26.0      0      0  STON/O2. 3101282   7.9250   NaN        S  \n",
       "3  female  35.0      1      0            113803  53.1000  C123        S  \n",
       "4    male  35.0      0      0            373450   8.0500   NaN        S  "
      ]
     },
     "execution_count": 74,
     "metadata": {},
     "output_type": "execute_result"
    }
   ],
   "source": [
    "df = pd.read_csv('train.csv').drop('PassengerId', axis=1)\n",
    "\n",
    "df.head()"
   ]
  },
  {
   "cell_type": "code",
   "execution_count": 75,
   "id": "10994e7b",
   "metadata": {},
   "outputs": [
    {
     "data": {
      "text/html": [
       "<div>\n",
       "<style scoped>\n",
       "    .dataframe tbody tr th:only-of-type {\n",
       "        vertical-align: middle;\n",
       "    }\n",
       "\n",
       "    .dataframe tbody tr th {\n",
       "        vertical-align: top;\n",
       "    }\n",
       "\n",
       "    .dataframe thead th {\n",
       "        text-align: right;\n",
       "    }\n",
       "</style>\n",
       "<table border=\"1\" class=\"dataframe\">\n",
       "  <thead>\n",
       "    <tr style=\"text-align: right;\">\n",
       "      <th></th>\n",
       "      <th>Survived</th>\n",
       "      <th>Pclass</th>\n",
       "      <th>Age</th>\n",
       "      <th>SibSp</th>\n",
       "      <th>Parch</th>\n",
       "      <th>Fare</th>\n",
       "    </tr>\n",
       "  </thead>\n",
       "  <tbody>\n",
       "    <tr>\n",
       "      <th>count</th>\n",
       "      <td>891.000000</td>\n",
       "      <td>891.000000</td>\n",
       "      <td>714.000000</td>\n",
       "      <td>891.000000</td>\n",
       "      <td>891.000000</td>\n",
       "      <td>891.000000</td>\n",
       "    </tr>\n",
       "    <tr>\n",
       "      <th>mean</th>\n",
       "      <td>0.383838</td>\n",
       "      <td>2.308642</td>\n",
       "      <td>29.699118</td>\n",
       "      <td>0.523008</td>\n",
       "      <td>0.381594</td>\n",
       "      <td>32.204208</td>\n",
       "    </tr>\n",
       "    <tr>\n",
       "      <th>std</th>\n",
       "      <td>0.486592</td>\n",
       "      <td>0.836071</td>\n",
       "      <td>14.526497</td>\n",
       "      <td>1.102743</td>\n",
       "      <td>0.806057</td>\n",
       "      <td>49.693429</td>\n",
       "    </tr>\n",
       "    <tr>\n",
       "      <th>min</th>\n",
       "      <td>0.000000</td>\n",
       "      <td>1.000000</td>\n",
       "      <td>0.420000</td>\n",
       "      <td>0.000000</td>\n",
       "      <td>0.000000</td>\n",
       "      <td>0.000000</td>\n",
       "    </tr>\n",
       "    <tr>\n",
       "      <th>25%</th>\n",
       "      <td>0.000000</td>\n",
       "      <td>2.000000</td>\n",
       "      <td>20.125000</td>\n",
       "      <td>0.000000</td>\n",
       "      <td>0.000000</td>\n",
       "      <td>7.910400</td>\n",
       "    </tr>\n",
       "    <tr>\n",
       "      <th>50%</th>\n",
       "      <td>0.000000</td>\n",
       "      <td>3.000000</td>\n",
       "      <td>28.000000</td>\n",
       "      <td>0.000000</td>\n",
       "      <td>0.000000</td>\n",
       "      <td>14.454200</td>\n",
       "    </tr>\n",
       "    <tr>\n",
       "      <th>75%</th>\n",
       "      <td>1.000000</td>\n",
       "      <td>3.000000</td>\n",
       "      <td>38.000000</td>\n",
       "      <td>1.000000</td>\n",
       "      <td>0.000000</td>\n",
       "      <td>31.000000</td>\n",
       "    </tr>\n",
       "    <tr>\n",
       "      <th>max</th>\n",
       "      <td>1.000000</td>\n",
       "      <td>3.000000</td>\n",
       "      <td>80.000000</td>\n",
       "      <td>8.000000</td>\n",
       "      <td>6.000000</td>\n",
       "      <td>512.329200</td>\n",
       "    </tr>\n",
       "  </tbody>\n",
       "</table>\n",
       "</div>"
      ],
      "text/plain": [
       "         Survived      Pclass         Age       SibSp       Parch        Fare\n",
       "count  891.000000  891.000000  714.000000  891.000000  891.000000  891.000000\n",
       "mean     0.383838    2.308642   29.699118    0.523008    0.381594   32.204208\n",
       "std      0.486592    0.836071   14.526497    1.102743    0.806057   49.693429\n",
       "min      0.000000    1.000000    0.420000    0.000000    0.000000    0.000000\n",
       "25%      0.000000    2.000000   20.125000    0.000000    0.000000    7.910400\n",
       "50%      0.000000    3.000000   28.000000    0.000000    0.000000   14.454200\n",
       "75%      1.000000    3.000000   38.000000    1.000000    0.000000   31.000000\n",
       "max      1.000000    3.000000   80.000000    8.000000    6.000000  512.329200"
      ]
     },
     "execution_count": 75,
     "metadata": {},
     "output_type": "execute_result"
    }
   ],
   "source": [
    "df.describe()"
   ]
  },
  {
   "cell_type": "markdown",
   "id": "e525833a",
   "metadata": {},
   "source": [
    "Filling in missing values"
   ]
  },
  {
   "cell_type": "code",
   "execution_count": 76,
   "id": "73f90458",
   "metadata": {},
   "outputs": [],
   "source": [
    "df.Age = df.Age.fillna(\n",
    "    df.groupby('Sex').Age.transform('mean')\n",
    ")"
   ]
  },
  {
   "cell_type": "code",
   "execution_count": 77,
   "id": "d2c8c11f",
   "metadata": {},
   "outputs": [
    {
     "data": {
      "text/html": [
       "<div>\n",
       "<style scoped>\n",
       "    .dataframe tbody tr th:only-of-type {\n",
       "        vertical-align: middle;\n",
       "    }\n",
       "\n",
       "    .dataframe tbody tr th {\n",
       "        vertical-align: top;\n",
       "    }\n",
       "\n",
       "    .dataframe thead th {\n",
       "        text-align: right;\n",
       "    }\n",
       "</style>\n",
       "<table border=\"1\" class=\"dataframe\">\n",
       "  <thead>\n",
       "    <tr style=\"text-align: right;\">\n",
       "      <th></th>\n",
       "      <th>Name</th>\n",
       "      <th>Sex</th>\n",
       "      <th>Ticket</th>\n",
       "      <th>Cabin</th>\n",
       "      <th>Embarked</th>\n",
       "    </tr>\n",
       "  </thead>\n",
       "  <tbody>\n",
       "    <tr>\n",
       "      <th>count</th>\n",
       "      <td>891</td>\n",
       "      <td>891</td>\n",
       "      <td>891</td>\n",
       "      <td>204</td>\n",
       "      <td>889</td>\n",
       "    </tr>\n",
       "    <tr>\n",
       "      <th>unique</th>\n",
       "      <td>891</td>\n",
       "      <td>2</td>\n",
       "      <td>681</td>\n",
       "      <td>147</td>\n",
       "      <td>3</td>\n",
       "    </tr>\n",
       "    <tr>\n",
       "      <th>top</th>\n",
       "      <td>Braund, Mr. Owen Harris</td>\n",
       "      <td>male</td>\n",
       "      <td>347082</td>\n",
       "      <td>B96 B98</td>\n",
       "      <td>S</td>\n",
       "    </tr>\n",
       "    <tr>\n",
       "      <th>freq</th>\n",
       "      <td>1</td>\n",
       "      <td>577</td>\n",
       "      <td>7</td>\n",
       "      <td>4</td>\n",
       "      <td>644</td>\n",
       "    </tr>\n",
       "  </tbody>\n",
       "</table>\n",
       "</div>"
      ],
      "text/plain": [
       "                           Name   Sex  Ticket    Cabin Embarked\n",
       "count                       891   891     891      204      889\n",
       "unique                      891     2     681      147        3\n",
       "top     Braund, Mr. Owen Harris  male  347082  B96 B98        S\n",
       "freq                          1   577       7        4      644"
      ]
     },
     "execution_count": 77,
     "metadata": {},
     "output_type": "execute_result"
    }
   ],
   "source": [
    "df.describe(include=object)"
   ]
  },
  {
   "cell_type": "code",
   "execution_count": 78,
   "id": "e7f714a2",
   "metadata": {},
   "outputs": [],
   "source": [
    "df.Cabin = df.Cabin.str[0]\n",
    "\n",
    "df.Name = df.Name.str.split(',').str[1]\n",
    "\n",
    "# New features\n",
    "df['Title'] = df.Name.str.split('.').str[0]\n",
    "df['FamilySize'] = df.SibSp + df.Parch + 1\n",
    "\n",
    "df.Embarked = df.Embarked.fillna(\n",
    "    df.Embarked.value_counts().index[0]\n",
    ")"
   ]
  },
  {
   "cell_type": "code",
   "execution_count": 79,
   "id": "fe7fd6fe",
   "metadata": {},
   "outputs": [],
   "source": [
    "# Drop Cabin, as it has > 50% NaN values, drop used columns\n",
    "df = df.drop(['Name', 'Cabin', 'Ticket', 'SibSp', 'Parch'], axis=1)"
   ]
  },
  {
   "cell_type": "code",
   "execution_count": 82,
   "id": "4fd3e9bf",
   "metadata": {},
   "outputs": [
    {
     "data": {
      "text/plain": [
       "Survived      0\n",
       "Pclass        0\n",
       "Sex           0\n",
       "Age           0\n",
       "Fare          0\n",
       "Embarked      0\n",
       "Title         0\n",
       "FamilySize    0\n",
       "dtype: int64"
      ]
     },
     "execution_count": 82,
     "metadata": {},
     "output_type": "execute_result"
    }
   ],
   "source": [
    "df.isna().sum()"
   ]
  },
  {
   "cell_type": "code",
   "execution_count": 197,
   "id": "078e8f12",
   "metadata": {},
   "outputs": [],
   "source": [
    "X = df.drop('Survived', axis=1)\n",
    "y = df.Survived"
   ]
  },
  {
   "cell_type": "code",
   "execution_count": 198,
   "id": "2713df6b",
   "metadata": {},
   "outputs": [
    {
     "data": {
      "text/plain": [
       "Index(['Pclass', 'Sex', 'Age', 'Fare', 'Embarked', 'Title', 'FamilySize'], dtype='object')"
      ]
     },
     "execution_count": 198,
     "metadata": {},
     "output_type": "execute_result"
    }
   ],
   "source": [
    "X.columns"
   ]
  },
  {
   "cell_type": "code",
   "execution_count": 199,
   "id": "d26a11b6",
   "metadata": {},
   "outputs": [],
   "source": [
    "numeric_columns = ['Age', 'Fare', 'FamilySize']\n",
    "categorical_columns = [x for x in X.columns if x not in numeric_columns]"
   ]
  },
  {
   "cell_type": "code",
   "execution_count": 89,
   "id": "b8b1261d",
   "metadata": {},
   "outputs": [
    {
     "data": {
      "text/html": [
       "<div>\n",
       "<style scoped>\n",
       "    .dataframe tbody tr th:only-of-type {\n",
       "        vertical-align: middle;\n",
       "    }\n",
       "\n",
       "    .dataframe tbody tr th {\n",
       "        vertical-align: top;\n",
       "    }\n",
       "\n",
       "    .dataframe thead th {\n",
       "        text-align: right;\n",
       "    }\n",
       "</style>\n",
       "<table border=\"1\" class=\"dataframe\">\n",
       "  <thead>\n",
       "    <tr style=\"text-align: right;\">\n",
       "      <th></th>\n",
       "      <th>Pclass</th>\n",
       "      <th>Sex</th>\n",
       "      <th>Age</th>\n",
       "      <th>Fare</th>\n",
       "      <th>Embarked</th>\n",
       "      <th>Title</th>\n",
       "      <th>FamilySize</th>\n",
       "    </tr>\n",
       "  </thead>\n",
       "  <tbody>\n",
       "    <tr>\n",
       "      <th>0</th>\n",
       "      <td>3</td>\n",
       "      <td>male</td>\n",
       "      <td>22.000000</td>\n",
       "      <td>7.2500</td>\n",
       "      <td>S</td>\n",
       "      <td>Mr</td>\n",
       "      <td>2</td>\n",
       "    </tr>\n",
       "    <tr>\n",
       "      <th>1</th>\n",
       "      <td>1</td>\n",
       "      <td>female</td>\n",
       "      <td>38.000000</td>\n",
       "      <td>71.2833</td>\n",
       "      <td>C</td>\n",
       "      <td>Mrs</td>\n",
       "      <td>2</td>\n",
       "    </tr>\n",
       "    <tr>\n",
       "      <th>2</th>\n",
       "      <td>3</td>\n",
       "      <td>female</td>\n",
       "      <td>26.000000</td>\n",
       "      <td>7.9250</td>\n",
       "      <td>S</td>\n",
       "      <td>Miss</td>\n",
       "      <td>1</td>\n",
       "    </tr>\n",
       "    <tr>\n",
       "      <th>3</th>\n",
       "      <td>1</td>\n",
       "      <td>female</td>\n",
       "      <td>35.000000</td>\n",
       "      <td>53.1000</td>\n",
       "      <td>S</td>\n",
       "      <td>Mrs</td>\n",
       "      <td>2</td>\n",
       "    </tr>\n",
       "    <tr>\n",
       "      <th>4</th>\n",
       "      <td>3</td>\n",
       "      <td>male</td>\n",
       "      <td>35.000000</td>\n",
       "      <td>8.0500</td>\n",
       "      <td>S</td>\n",
       "      <td>Mr</td>\n",
       "      <td>1</td>\n",
       "    </tr>\n",
       "    <tr>\n",
       "      <th>5</th>\n",
       "      <td>3</td>\n",
       "      <td>male</td>\n",
       "      <td>30.726645</td>\n",
       "      <td>8.4583</td>\n",
       "      <td>Q</td>\n",
       "      <td>Mr</td>\n",
       "      <td>1</td>\n",
       "    </tr>\n",
       "    <tr>\n",
       "      <th>6</th>\n",
       "      <td>1</td>\n",
       "      <td>male</td>\n",
       "      <td>54.000000</td>\n",
       "      <td>51.8625</td>\n",
       "      <td>S</td>\n",
       "      <td>Mr</td>\n",
       "      <td>1</td>\n",
       "    </tr>\n",
       "    <tr>\n",
       "      <th>7</th>\n",
       "      <td>3</td>\n",
       "      <td>male</td>\n",
       "      <td>2.000000</td>\n",
       "      <td>21.0750</td>\n",
       "      <td>S</td>\n",
       "      <td>Master</td>\n",
       "      <td>5</td>\n",
       "    </tr>\n",
       "    <tr>\n",
       "      <th>8</th>\n",
       "      <td>3</td>\n",
       "      <td>female</td>\n",
       "      <td>27.000000</td>\n",
       "      <td>11.1333</td>\n",
       "      <td>S</td>\n",
       "      <td>Mrs</td>\n",
       "      <td>3</td>\n",
       "    </tr>\n",
       "    <tr>\n",
       "      <th>9</th>\n",
       "      <td>2</td>\n",
       "      <td>female</td>\n",
       "      <td>14.000000</td>\n",
       "      <td>30.0708</td>\n",
       "      <td>C</td>\n",
       "      <td>Mrs</td>\n",
       "      <td>2</td>\n",
       "    </tr>\n",
       "  </tbody>\n",
       "</table>\n",
       "</div>"
      ],
      "text/plain": [
       "   Pclass     Sex        Age     Fare Embarked    Title  FamilySize\n",
       "0       3    male  22.000000   7.2500        S       Mr           2\n",
       "1       1  female  38.000000  71.2833        C      Mrs           2\n",
       "2       3  female  26.000000   7.9250        S     Miss           1\n",
       "3       1  female  35.000000  53.1000        S      Mrs           2\n",
       "4       3    male  35.000000   8.0500        S       Mr           1\n",
       "5       3    male  30.726645   8.4583        Q       Mr           1\n",
       "6       1    male  54.000000  51.8625        S       Mr           1\n",
       "7       3    male   2.000000  21.0750        S   Master           5\n",
       "8       3  female  27.000000  11.1333        S      Mrs           3\n",
       "9       2  female  14.000000  30.0708        C      Mrs           2"
      ]
     },
     "execution_count": 89,
     "metadata": {},
     "output_type": "execute_result"
    }
   ],
   "source": [
    "X.head(10)"
   ]
  },
  {
   "cell_type": "markdown",
   "id": "60609f47",
   "metadata": {},
   "source": [
    "#### EDA"
   ]
  },
  {
   "cell_type": "markdown",
   "id": "f74956da",
   "metadata": {},
   "source": [
    "Numeric columns"
   ]
  },
  {
   "cell_type": "code",
   "execution_count": 99,
   "id": "58f88c51",
   "metadata": {},
   "outputs": [
    {
     "data": {
      "image/png": "[encoded data removed]",
      "text/plain": [
       "<Figure size 1152x648 with 2 Axes>"
      ]
     },
     "metadata": {
      "needs_background": "dark"
     },
     "output_type": "display_data"
    }
   ],
   "source": [
    "fig = plt.figure(figsize=(16, 9))\n",
    "\n",
    "sns.heatmap(X[numeric_columns].corr())\n",
    "plt.title('Numeric values correlation')\n",
    "\n",
    "plt.show()"
   ]
  },
  {
   "cell_type": "code",
   "execution_count": 100,
   "id": "d83c5449",
   "metadata": {},
   "outputs": [
    {
     "data": {
      "image/png": "[encoded data removed]",
      "text/plain": [
       "<Figure size 432x288 with 1 Axes>"
      ]
     },
     "metadata": {
      "needs_background": "dark"
     },
     "output_type": "display_data"
    }
   ],
   "source": [
    "fig = plt.figure()\n",
    "\n",
    "sns.countplot(x=df.Pclass, hue=df.Survived)\n",
    "plt.title('Passenger class counts')\n",
    "\n",
    "plt.show()"
   ]
  },
  {
   "cell_type": "code",
   "execution_count": 101,
   "id": "f9662a4d",
   "metadata": {},
   "outputs": [
    {
     "data": {
      "image/png": "[encoded data removed]",
      "text/plain": [
       "<Figure size 864x576 with 1 Axes>"
      ]
     },
     "metadata": {
      "needs_background": "dark"
     },
     "output_type": "display_data"
    }
   ],
   "source": [
    "fig = plt.figure(figsize=(12, 8))\n",
    "# plt.title('Overall age distribution', loc='right')\n",
    "\n",
    "\n",
    "ax1 = fig.add_subplot(2, 1, 1)\n",
    "sns.histplot(df.Age)\n",
    "plt.xlim((0, df.Age.max()))\n",
    "# plt.title('Before outliers deletion')\n",
    "\n",
    "\n",
    "# lower = df.Age.quantile(0.005)\n",
    "# upper = df.Age.quantile(0.975)\n",
    "\n",
    "# ax2 = fig.add_subplot(2, 1, 2)\n",
    "# sns.histplot(\n",
    "#     df[df.Age.between(lower, upper, inclusive='both')].Age\n",
    "# )\n",
    "# plt.xlim((0, df.Age.max()))\n",
    "# plt.title('After outliers deletion')\n",
    "# fig.tight_layout()\n",
    "\n",
    "plt.show()"
   ]
  },
  {
   "cell_type": "markdown",
   "id": "a95489e3",
   "metadata": {},
   "source": [
    "Removing age outliers might badly affect the score: elderly people or babies would be more likely to survive"
   ]
  },
  {
   "cell_type": "code",
   "execution_count": 103,
   "id": "4bdebc92",
   "metadata": {},
   "outputs": [
    {
     "data": {
      "text/html": [
       "<div>\n",
       "<style scoped>\n",
       "    .dataframe tbody tr th:only-of-type {\n",
       "        vertical-align: middle;\n",
       "    }\n",
       "\n",
       "    .dataframe tbody tr th {\n",
       "        vertical-align: top;\n",
       "    }\n",
       "\n",
       "    .dataframe thead th {\n",
       "        text-align: right;\n",
       "    }\n",
       "</style>\n",
       "<table border=\"1\" class=\"dataframe\">\n",
       "  <thead>\n",
       "    <tr style=\"text-align: right;\">\n",
       "      <th></th>\n",
       "      <th>Pclass</th>\n",
       "      <th>Sex</th>\n",
       "      <th>Age</th>\n",
       "      <th>Fare</th>\n",
       "      <th>Embarked</th>\n",
       "      <th>Title</th>\n",
       "      <th>FamilySize</th>\n",
       "    </tr>\n",
       "  </thead>\n",
       "  <tbody>\n",
       "    <tr>\n",
       "      <th>0</th>\n",
       "      <td>3</td>\n",
       "      <td>male</td>\n",
       "      <td>22.000000</td>\n",
       "      <td>7.2500</td>\n",
       "      <td>S</td>\n",
       "      <td>Mr</td>\n",
       "      <td>2</td>\n",
       "    </tr>\n",
       "    <tr>\n",
       "      <th>1</th>\n",
       "      <td>1</td>\n",
       "      <td>female</td>\n",
       "      <td>38.000000</td>\n",
       "      <td>71.2833</td>\n",
       "      <td>C</td>\n",
       "      <td>Mrs</td>\n",
       "      <td>2</td>\n",
       "    </tr>\n",
       "    <tr>\n",
       "      <th>2</th>\n",
       "      <td>3</td>\n",
       "      <td>female</td>\n",
       "      <td>26.000000</td>\n",
       "      <td>7.9250</td>\n",
       "      <td>S</td>\n",
       "      <td>Miss</td>\n",
       "      <td>1</td>\n",
       "    </tr>\n",
       "    <tr>\n",
       "      <th>3</th>\n",
       "      <td>1</td>\n",
       "      <td>female</td>\n",
       "      <td>35.000000</td>\n",
       "      <td>53.1000</td>\n",
       "      <td>S</td>\n",
       "      <td>Mrs</td>\n",
       "      <td>2</td>\n",
       "    </tr>\n",
       "    <tr>\n",
       "      <th>4</th>\n",
       "      <td>3</td>\n",
       "      <td>male</td>\n",
       "      <td>35.000000</td>\n",
       "      <td>8.0500</td>\n",
       "      <td>S</td>\n",
       "      <td>Mr</td>\n",
       "      <td>1</td>\n",
       "    </tr>\n",
       "    <tr>\n",
       "      <th>...</th>\n",
       "      <td>...</td>\n",
       "      <td>...</td>\n",
       "      <td>...</td>\n",
       "      <td>...</td>\n",
       "      <td>...</td>\n",
       "      <td>...</td>\n",
       "      <td>...</td>\n",
       "    </tr>\n",
       "    <tr>\n",
       "      <th>886</th>\n",
       "      <td>2</td>\n",
       "      <td>male</td>\n",
       "      <td>27.000000</td>\n",
       "      <td>13.0000</td>\n",
       "      <td>S</td>\n",
       "      <td>Rev</td>\n",
       "      <td>1</td>\n",
       "    </tr>\n",
       "    <tr>\n",
       "      <th>887</th>\n",
       "      <td>1</td>\n",
       "      <td>female</td>\n",
       "      <td>19.000000</td>\n",
       "      <td>30.0000</td>\n",
       "      <td>S</td>\n",
       "      <td>Miss</td>\n",
       "      <td>1</td>\n",
       "    </tr>\n",
       "    <tr>\n",
       "      <th>888</th>\n",
       "      <td>3</td>\n",
       "      <td>female</td>\n",
       "      <td>27.915709</td>\n",
       "      <td>23.4500</td>\n",
       "      <td>S</td>\n",
       "      <td>Miss</td>\n",
       "      <td>4</td>\n",
       "    </tr>\n",
       "    <tr>\n",
       "      <th>889</th>\n",
       "      <td>1</td>\n",
       "      <td>male</td>\n",
       "      <td>26.000000</td>\n",
       "      <td>30.0000</td>\n",
       "      <td>C</td>\n",
       "      <td>Mr</td>\n",
       "      <td>1</td>\n",
       "    </tr>\n",
       "    <tr>\n",
       "      <th>890</th>\n",
       "      <td>3</td>\n",
       "      <td>male</td>\n",
       "      <td>32.000000</td>\n",
       "      <td>7.7500</td>\n",
       "      <td>Q</td>\n",
       "      <td>Mr</td>\n",
       "      <td>1</td>\n",
       "    </tr>\n",
       "  </tbody>\n",
       "</table>\n",
       "<p>891 rows × 7 columns</p>\n",
       "</div>"
      ],
      "text/plain": [
       "     Pclass     Sex        Age     Fare Embarked  Title  FamilySize\n",
       "0         3    male  22.000000   7.2500        S     Mr           2\n",
       "1         1  female  38.000000  71.2833        C    Mrs           2\n",
       "2         3  female  26.000000   7.9250        S   Miss           1\n",
       "3         1  female  35.000000  53.1000        S    Mrs           2\n",
       "4         3    male  35.000000   8.0500        S     Mr           1\n",
       "..      ...     ...        ...      ...      ...    ...         ...\n",
       "886       2    male  27.000000  13.0000        S    Rev           1\n",
       "887       1  female  19.000000  30.0000        S   Miss           1\n",
       "888       3  female  27.915709  23.4500        S   Miss           4\n",
       "889       1    male  26.000000  30.0000        C     Mr           1\n",
       "890       3    male  32.000000   7.7500        Q     Mr           1\n",
       "\n",
       "[891 rows x 7 columns]"
      ]
     },
     "execution_count": 103,
     "metadata": {},
     "output_type": "execute_result"
    }
   ],
   "source": [
    "X"
   ]
  },
  {
   "cell_type": "code",
   "execution_count": 106,
   "id": "1bbfde06",
   "metadata": {},
   "outputs": [
    {
     "data": {
      "image/png": "[encoded data removed]",
      "text/plain": [
       "<Figure size 1152x648 with 1 Axes>"
      ]
     },
     "metadata": {
      "needs_background": "dark"
     },
     "output_type": "display_data"
    }
   ],
   "source": [
    "fig = plt.figure(figsize=(16, 9))\n",
    "# plt.title('Age distribution (Survived or not)', loc='right')\n",
    "\n",
    "sns.boxplot(x=df.Survived, y=df.Age)\n",
    "\n",
    "plt.show()"
   ]
  },
  {
   "cell_type": "markdown",
   "id": "601bd667",
   "metadata": {},
   "source": [
    "Merging *SibSp* and *Parch* into *Relatives* column"
   ]
  },
  {
   "cell_type": "code",
   "execution_count": 108,
   "id": "0ef19797",
   "metadata": {},
   "outputs": [
    {
     "name": "stdout",
     "output_type": "stream",
     "text": [
      "Survivors' percentage for 1 relatives: \t 30.353817504655492\n",
      "Survivors' percentage for 2 relatives: \t 55.27950310559006\n",
      "Survivors' percentage for 3 relatives: \t 57.84313725490196\n",
      "Survivors' percentage for 4 relatives: \t 72.41379310344827\n",
      "Survivors' percentage for 5 relatives: \t 20.0\n",
      "Survivors' percentage for 6 relatives: \t 13.636363636363637\n",
      "Survivors' percentage for 7 relatives: \t 33.333333333333336\n",
      "Survivors' percentage for 8 relatives:\t 0\n",
      "Survivors' percentage for 11 relatives:\t 0\n"
     ]
    },
    {
     "data": {
      "image/png": "[encoded data removed]",
      "text/plain": [
       "<Figure size 1008x432 with 2 Axes>"
      ]
     },
     "metadata": {
      "needs_background": "dark"
     },
     "output_type": "display_data"
    }
   ],
   "source": [
    "fig = plt.figure(figsize=(14, 6))\n",
    "\n",
    "ax1 = fig.add_subplot(1, 2, 1)\n",
    "sns.countplot(df.FamilySize)\n",
    "plt.title(\"Relatives' count\")\n",
    "\n",
    "ax2 = fig.add_subplot(1, 2, 2)\n",
    "sns.countplot(x=df.FamilySize, hue=df.Survived)\n",
    "plt.title(\"Survivors' proportions\")\n",
    "\n",
    "for count in sorted(df.FamilySize.unique()):\n",
    "    if count in df[df.Survived == 1].FamilySize.unique():\n",
    "        percentage = 100 * df[df.Survived == 1].FamilySize \\\n",
    "            .value_counts()[count] / df[df.FamilySize == count].shape[0]\n",
    "        print(f\"Survivors' percentage for {count} relatives: \\t {percentage}\")\n",
    "    else:\n",
    "        print(f\"Survivors' percentage for {count} relatives:\\t 0\")"
   ]
  },
  {
   "cell_type": "code",
   "execution_count": 113,
   "id": "d1c8bbea",
   "metadata": {},
   "outputs": [
    {
     "data": {
      "image/png": "[encoded data removed]",
      "text/plain": [
       "<Figure size 1152x648 with 1 Axes>"
      ]
     },
     "metadata": {
      "needs_background": "dark"
     },
     "output_type": "display_data"
    }
   ],
   "source": [
    "plt.figure(figsize=(16, 9))\n",
    "\n",
    "sns.boxplot(x=df.Survived, y=df.Fare)\n",
    "plt.ylim(0, 300)\n",
    "plt.show()"
   ]
  },
  {
   "cell_type": "code",
   "execution_count": 118,
   "id": "fc81d083",
   "metadata": {},
   "outputs": [
    {
     "data": {
      "image/png": "[encoded data removed]",
      "text/plain": [
       "<Figure size 432x288 with 1 Axes>"
      ]
     },
     "metadata": {
      "needs_background": "dark"
     },
     "output_type": "display_data"
    }
   ],
   "source": [
    "sns.countplot(x=df.Sex, hue=df.Survived)\n",
    "\n",
    "plt.show()"
   ]
  },
  {
   "cell_type": "code",
   "execution_count": 115,
   "id": "f3681fee",
   "metadata": {},
   "outputs": [
    {
     "data": {
      "text/plain": [
       "Text(0.5, 0, 'Sex')"
      ]
     },
     "execution_count": 115,
     "metadata": {},
     "output_type": "execute_result"
    },
    {
     "data": {
      "image/png": "[encoded data removed]",
      "text/plain": [
       "<Figure size 1152x648 with 1 Axes>"
      ]
     },
     "metadata": {
      "needs_background": "dark"
     },
     "output_type": "display_data"
    }
   ],
   "source": [
    "fig = plt.figure(figsize=(16, 9))\n",
    "\n",
    "ax = sns.boxplot(x=df.Sex, y=df.Age, hue=df.Survived)\n",
    "ax.set_xticklabels(['Male', 'Female'])\n",
    "\n",
    "plt.title('Age distribution by sex', fontsize=20)\n",
    "plt.xlabel('Sex')"
   ]
  },
  {
   "cell_type": "markdown",
   "id": "662dca23",
   "metadata": {},
   "source": [
    "#### Categorical columns"
   ]
  },
  {
   "cell_type": "code",
   "execution_count": 119,
   "id": "f0702341",
   "metadata": {},
   "outputs": [
    {
     "data": {
      "text/html": [
       "<div>\n",
       "<style scoped>\n",
       "    .dataframe tbody tr th:only-of-type {\n",
       "        vertical-align: middle;\n",
       "    }\n",
       "\n",
       "    .dataframe tbody tr th {\n",
       "        vertical-align: top;\n",
       "    }\n",
       "\n",
       "    .dataframe thead th {\n",
       "        text-align: right;\n",
       "    }\n",
       "</style>\n",
       "<table border=\"1\" class=\"dataframe\">\n",
       "  <thead>\n",
       "    <tr style=\"text-align: right;\">\n",
       "      <th></th>\n",
       "      <th>Survived</th>\n",
       "      <th>Pclass</th>\n",
       "      <th>Sex</th>\n",
       "      <th>Age</th>\n",
       "      <th>Fare</th>\n",
       "      <th>Embarked</th>\n",
       "      <th>Title</th>\n",
       "      <th>FamilySize</th>\n",
       "    </tr>\n",
       "  </thead>\n",
       "  <tbody>\n",
       "    <tr>\n",
       "      <th>0</th>\n",
       "      <td>0</td>\n",
       "      <td>3</td>\n",
       "      <td>male</td>\n",
       "      <td>22.0</td>\n",
       "      <td>7.2500</td>\n",
       "      <td>S</td>\n",
       "      <td>Mr</td>\n",
       "      <td>2</td>\n",
       "    </tr>\n",
       "    <tr>\n",
       "      <th>1</th>\n",
       "      <td>1</td>\n",
       "      <td>1</td>\n",
       "      <td>female</td>\n",
       "      <td>38.0</td>\n",
       "      <td>71.2833</td>\n",
       "      <td>C</td>\n",
       "      <td>Mrs</td>\n",
       "      <td>2</td>\n",
       "    </tr>\n",
       "    <tr>\n",
       "      <th>2</th>\n",
       "      <td>1</td>\n",
       "      <td>3</td>\n",
       "      <td>female</td>\n",
       "      <td>26.0</td>\n",
       "      <td>7.9250</td>\n",
       "      <td>S</td>\n",
       "      <td>Miss</td>\n",
       "      <td>1</td>\n",
       "    </tr>\n",
       "    <tr>\n",
       "      <th>3</th>\n",
       "      <td>1</td>\n",
       "      <td>1</td>\n",
       "      <td>female</td>\n",
       "      <td>35.0</td>\n",
       "      <td>53.1000</td>\n",
       "      <td>S</td>\n",
       "      <td>Mrs</td>\n",
       "      <td>2</td>\n",
       "    </tr>\n",
       "    <tr>\n",
       "      <th>4</th>\n",
       "      <td>0</td>\n",
       "      <td>3</td>\n",
       "      <td>male</td>\n",
       "      <td>35.0</td>\n",
       "      <td>8.0500</td>\n",
       "      <td>S</td>\n",
       "      <td>Mr</td>\n",
       "      <td>1</td>\n",
       "    </tr>\n",
       "  </tbody>\n",
       "</table>\n",
       "</div>"
      ],
      "text/plain": [
       "   Survived  Pclass     Sex   Age     Fare Embarked  Title  FamilySize\n",
       "0         0       3    male  22.0   7.2500        S     Mr           2\n",
       "1         1       1  female  38.0  71.2833        C    Mrs           2\n",
       "2         1       3  female  26.0   7.9250        S   Miss           1\n",
       "3         1       1  female  35.0  53.1000        S    Mrs           2\n",
       "4         0       3    male  35.0   8.0500        S     Mr           1"
      ]
     },
     "execution_count": 119,
     "metadata": {},
     "output_type": "execute_result"
    }
   ],
   "source": [
    "df.head()"
   ]
  },
  {
   "cell_type": "code",
   "execution_count": 120,
   "id": "f81d43bb",
   "metadata": {},
   "outputs": [
    {
     "name": "stdout",
     "output_type": "stream",
     "text": [
      "Survivors' percentage for S category:\t 33.90092879256966\n",
      "Survivors' percentage for C category:\t 55.357142857142854\n",
      "Survivors' percentage for Q category:\t 38.96103896103896\n"
     ]
    },
    {
     "data": {
      "image/png": "[encoded data removed]",
      "text/plain": [
       "<Figure size 432x288 with 1 Axes>"
      ]
     },
     "metadata": {
      "needs_background": "dark"
     },
     "output_type": "display_data"
    }
   ],
   "source": [
    "# sns.histplot(data=df, x='Embarked', hue='Survived')\n",
    "plt.title('Survival with respect to $Embarked$')\n",
    "\n",
    "sns.countplot(x=df.Embarked, hue=df.Survived)\n",
    "\n",
    "for value in df.Embarked.unique():\n",
    "    print(f\"Survivors' percentage for {value} category:\\t\"\n",
    "          , 100 * df[df.Survived == 1] \\\n",
    "              .Embarked.value_counts()[value] / df[df.Embarked == value].shape[0])"
   ]
  },
  {
   "cell_type": "code",
   "execution_count": 121,
   "id": "184ac303",
   "metadata": {},
   "outputs": [
    {
     "data": {
      "text/plain": [
       "Pclass       3\n",
       "Sex          2\n",
       "Embarked     3\n",
       "Title       17\n",
       "dtype: int64"
      ]
     },
     "execution_count": 121,
     "metadata": {},
     "output_type": "execute_result"
    }
   ],
   "source": [
    "X[categorical_columns].nunique()"
   ]
  },
  {
   "cell_type": "code",
   "execution_count": 125,
   "id": "0d99ee9c",
   "metadata": {},
   "outputs": [],
   "source": [
    "X_ = X.copy()\n",
    "for col in categorical_columns:\n",
    "    X_ = pd.concat(\n",
    "        (X_.drop(col, axis=1), pd.get_dummies(X[col], prefix=col, drop_first=True)),\n",
    "        axis=1\n",
    "    )"
   ]
  },
  {
   "cell_type": "code",
   "execution_count": 126,
   "id": "1368d75a",
   "metadata": {},
   "outputs": [
    {
     "data": {
      "text/html": [
       "<div>\n",
       "<style scoped>\n",
       "    .dataframe tbody tr th:only-of-type {\n",
       "        vertical-align: middle;\n",
       "    }\n",
       "\n",
       "    .dataframe tbody tr th {\n",
       "        vertical-align: top;\n",
       "    }\n",
       "\n",
       "    .dataframe thead th {\n",
       "        text-align: right;\n",
       "    }\n",
       "</style>\n",
       "<table border=\"1\" class=\"dataframe\">\n",
       "  <thead>\n",
       "    <tr style=\"text-align: right;\">\n",
       "      <th></th>\n",
       "      <th>Age</th>\n",
       "      <th>Fare</th>\n",
       "      <th>FamilySize</th>\n",
       "      <th>Pclass_2</th>\n",
       "      <th>Pclass_3</th>\n",
       "      <th>Sex_male</th>\n",
       "      <th>Embarked_Q</th>\n",
       "      <th>Embarked_S</th>\n",
       "      <th>Title_ Col</th>\n",
       "      <th>Title_ Don</th>\n",
       "      <th>...</th>\n",
       "      <th>Title_ Master</th>\n",
       "      <th>Title_ Miss</th>\n",
       "      <th>Title_ Mlle</th>\n",
       "      <th>Title_ Mme</th>\n",
       "      <th>Title_ Mr</th>\n",
       "      <th>Title_ Mrs</th>\n",
       "      <th>Title_ Ms</th>\n",
       "      <th>Title_ Rev</th>\n",
       "      <th>Title_ Sir</th>\n",
       "      <th>Title_ the Countess</th>\n",
       "    </tr>\n",
       "  </thead>\n",
       "  <tbody>\n",
       "    <tr>\n",
       "      <th>0</th>\n",
       "      <td>22.0</td>\n",
       "      <td>7.2500</td>\n",
       "      <td>2</td>\n",
       "      <td>0</td>\n",
       "      <td>1</td>\n",
       "      <td>1</td>\n",
       "      <td>0</td>\n",
       "      <td>1</td>\n",
       "      <td>0</td>\n",
       "      <td>0</td>\n",
       "      <td>...</td>\n",
       "      <td>0</td>\n",
       "      <td>0</td>\n",
       "      <td>0</td>\n",
       "      <td>0</td>\n",
       "      <td>1</td>\n",
       "      <td>0</td>\n",
       "      <td>0</td>\n",
       "      <td>0</td>\n",
       "      <td>0</td>\n",
       "      <td>0</td>\n",
       "    </tr>\n",
       "    <tr>\n",
       "      <th>1</th>\n",
       "      <td>38.0</td>\n",
       "      <td>71.2833</td>\n",
       "      <td>2</td>\n",
       "      <td>0</td>\n",
       "      <td>0</td>\n",
       "      <td>0</td>\n",
       "      <td>0</td>\n",
       "      <td>0</td>\n",
       "      <td>0</td>\n",
       "      <td>0</td>\n",
       "      <td>...</td>\n",
       "      <td>0</td>\n",
       "      <td>0</td>\n",
       "      <td>0</td>\n",
       "      <td>0</td>\n",
       "      <td>0</td>\n",
       "      <td>1</td>\n",
       "      <td>0</td>\n",
       "      <td>0</td>\n",
       "      <td>0</td>\n",
       "      <td>0</td>\n",
       "    </tr>\n",
       "    <tr>\n",
       "      <th>2</th>\n",
       "      <td>26.0</td>\n",
       "      <td>7.9250</td>\n",
       "      <td>1</td>\n",
       "      <td>0</td>\n",
       "      <td>1</td>\n",
       "      <td>0</td>\n",
       "      <td>0</td>\n",
       "      <td>1</td>\n",
       "      <td>0</td>\n",
       "      <td>0</td>\n",
       "      <td>...</td>\n",
       "      <td>0</td>\n",
       "      <td>1</td>\n",
       "      <td>0</td>\n",
       "      <td>0</td>\n",
       "      <td>0</td>\n",
       "      <td>0</td>\n",
       "      <td>0</td>\n",
       "      <td>0</td>\n",
       "      <td>0</td>\n",
       "      <td>0</td>\n",
       "    </tr>\n",
       "    <tr>\n",
       "      <th>3</th>\n",
       "      <td>35.0</td>\n",
       "      <td>53.1000</td>\n",
       "      <td>2</td>\n",
       "      <td>0</td>\n",
       "      <td>0</td>\n",
       "      <td>0</td>\n",
       "      <td>0</td>\n",
       "      <td>1</td>\n",
       "      <td>0</td>\n",
       "      <td>0</td>\n",
       "      <td>...</td>\n",
       "      <td>0</td>\n",
       "      <td>0</td>\n",
       "      <td>0</td>\n",
       "      <td>0</td>\n",
       "      <td>0</td>\n",
       "      <td>1</td>\n",
       "      <td>0</td>\n",
       "      <td>0</td>\n",
       "      <td>0</td>\n",
       "      <td>0</td>\n",
       "    </tr>\n",
       "    <tr>\n",
       "      <th>4</th>\n",
       "      <td>35.0</td>\n",
       "      <td>8.0500</td>\n",
       "      <td>1</td>\n",
       "      <td>0</td>\n",
       "      <td>1</td>\n",
       "      <td>1</td>\n",
       "      <td>0</td>\n",
       "      <td>1</td>\n",
       "      <td>0</td>\n",
       "      <td>0</td>\n",
       "      <td>...</td>\n",
       "      <td>0</td>\n",
       "      <td>0</td>\n",
       "      <td>0</td>\n",
       "      <td>0</td>\n",
       "      <td>1</td>\n",
       "      <td>0</td>\n",
       "      <td>0</td>\n",
       "      <td>0</td>\n",
       "      <td>0</td>\n",
       "      <td>0</td>\n",
       "    </tr>\n",
       "  </tbody>\n",
       "</table>\n",
       "<p>5 rows × 24 columns</p>\n",
       "</div>"
      ],
      "text/plain": [
       "    Age     Fare  FamilySize  Pclass_2  Pclass_3  Sex_male  Embarked_Q  \\\n",
       "0  22.0   7.2500           2         0         1         1           0   \n",
       "1  38.0  71.2833           2         0         0         0           0   \n",
       "2  26.0   7.9250           1         0         1         0           0   \n",
       "3  35.0  53.1000           2         0         0         0           0   \n",
       "4  35.0   8.0500           1         0         1         1           0   \n",
       "\n",
       "   Embarked_S  Title_ Col  Title_ Don  ...  Title_ Master  Title_ Miss  \\\n",
       "0           1           0           0  ...              0            0   \n",
       "1           0           0           0  ...              0            0   \n",
       "2           1           0           0  ...              0            1   \n",
       "3           1           0           0  ...              0            0   \n",
       "4           1           0           0  ...              0            0   \n",
       "\n",
       "   Title_ Mlle  Title_ Mme  Title_ Mr  Title_ Mrs  Title_ Ms  Title_ Rev  \\\n",
       "0            0           0          1           0          0           0   \n",
       "1            0           0          0           1          0           0   \n",
       "2            0           0          0           0          0           0   \n",
       "3            0           0          0           1          0           0   \n",
       "4            0           0          1           0          0           0   \n",
       "\n",
       "   Title_ Sir  Title_ the Countess  \n",
       "0           0                    0  \n",
       "1           0                    0  \n",
       "2           0                    0  \n",
       "3           0                    0  \n",
       "4           0                    0  \n",
       "\n",
       "[5 rows x 24 columns]"
      ]
     },
     "execution_count": 126,
     "metadata": {},
     "output_type": "execute_result"
    }
   ],
   "source": [
    "X_.head()"
   ]
  },
  {
   "cell_type": "code",
   "execution_count": 27,
   "id": "eb472133",
   "metadata": {},
   "outputs": [
    {
     "data": {
      "text/html": [
       "<div>\n",
       "<style scoped>\n",
       "    .dataframe tbody tr th:only-of-type {\n",
       "        vertical-align: middle;\n",
       "    }\n",
       "\n",
       "    .dataframe tbody tr th {\n",
       "        vertical-align: top;\n",
       "    }\n",
       "\n",
       "    .dataframe thead th {\n",
       "        text-align: right;\n",
       "    }\n",
       "</style>\n",
       "<table border=\"1\" class=\"dataframe\">\n",
       "  <thead>\n",
       "    <tr style=\"text-align: right;\">\n",
       "      <th></th>\n",
       "      <th>Survived</th>\n",
       "      <th>Pclass</th>\n",
       "      <th>Age</th>\n",
       "      <th>Fare</th>\n",
       "      <th>Female</th>\n",
       "      <th>Relatives</th>\n",
       "      <th>Cabin_B</th>\n",
       "      <th>Cabin_C</th>\n",
       "      <th>Cabin_D</th>\n",
       "      <th>Cabin_E</th>\n",
       "      <th>Cabin_F</th>\n",
       "      <th>Cabin_G</th>\n",
       "      <th>Cabin_T</th>\n",
       "      <th>Embarked_Q</th>\n",
       "      <th>Embarked_S</th>\n",
       "    </tr>\n",
       "    <tr>\n",
       "      <th>PassengerId</th>\n",
       "      <th></th>\n",
       "      <th></th>\n",
       "      <th></th>\n",
       "      <th></th>\n",
       "      <th></th>\n",
       "      <th></th>\n",
       "      <th></th>\n",
       "      <th></th>\n",
       "      <th></th>\n",
       "      <th></th>\n",
       "      <th></th>\n",
       "      <th></th>\n",
       "      <th></th>\n",
       "      <th></th>\n",
       "      <th></th>\n",
       "    </tr>\n",
       "  </thead>\n",
       "  <tbody>\n",
       "    <tr>\n",
       "      <th>1</th>\n",
       "      <td>0</td>\n",
       "      <td>3</td>\n",
       "      <td>22.0</td>\n",
       "      <td>7.2500</td>\n",
       "      <td>0</td>\n",
       "      <td>1</td>\n",
       "      <td>0</td>\n",
       "      <td>0</td>\n",
       "      <td>0</td>\n",
       "      <td>0</td>\n",
       "      <td>0</td>\n",
       "      <td>0</td>\n",
       "      <td>0</td>\n",
       "      <td>0</td>\n",
       "      <td>1</td>\n",
       "    </tr>\n",
       "    <tr>\n",
       "      <th>2</th>\n",
       "      <td>1</td>\n",
       "      <td>1</td>\n",
       "      <td>38.0</td>\n",
       "      <td>71.2833</td>\n",
       "      <td>1</td>\n",
       "      <td>1</td>\n",
       "      <td>0</td>\n",
       "      <td>1</td>\n",
       "      <td>0</td>\n",
       "      <td>0</td>\n",
       "      <td>0</td>\n",
       "      <td>0</td>\n",
       "      <td>0</td>\n",
       "      <td>0</td>\n",
       "      <td>0</td>\n",
       "    </tr>\n",
       "    <tr>\n",
       "      <th>3</th>\n",
       "      <td>1</td>\n",
       "      <td>3</td>\n",
       "      <td>26.0</td>\n",
       "      <td>7.9250</td>\n",
       "      <td>1</td>\n",
       "      <td>0</td>\n",
       "      <td>0</td>\n",
       "      <td>0</td>\n",
       "      <td>0</td>\n",
       "      <td>0</td>\n",
       "      <td>0</td>\n",
       "      <td>0</td>\n",
       "      <td>0</td>\n",
       "      <td>0</td>\n",
       "      <td>1</td>\n",
       "    </tr>\n",
       "    <tr>\n",
       "      <th>4</th>\n",
       "      <td>1</td>\n",
       "      <td>1</td>\n",
       "      <td>35.0</td>\n",
       "      <td>53.1000</td>\n",
       "      <td>1</td>\n",
       "      <td>1</td>\n",
       "      <td>0</td>\n",
       "      <td>1</td>\n",
       "      <td>0</td>\n",
       "      <td>0</td>\n",
       "      <td>0</td>\n",
       "      <td>0</td>\n",
       "      <td>0</td>\n",
       "      <td>0</td>\n",
       "      <td>1</td>\n",
       "    </tr>\n",
       "    <tr>\n",
       "      <th>5</th>\n",
       "      <td>0</td>\n",
       "      <td>3</td>\n",
       "      <td>35.0</td>\n",
       "      <td>8.0500</td>\n",
       "      <td>0</td>\n",
       "      <td>0</td>\n",
       "      <td>0</td>\n",
       "      <td>0</td>\n",
       "      <td>0</td>\n",
       "      <td>0</td>\n",
       "      <td>0</td>\n",
       "      <td>0</td>\n",
       "      <td>0</td>\n",
       "      <td>0</td>\n",
       "      <td>1</td>\n",
       "    </tr>\n",
       "  </tbody>\n",
       "</table>\n",
       "</div>"
      ],
      "text/plain": [
       "             Survived  Pclass   Age     Fare  Female  Relatives  Cabin_B  \\\n",
       "PassengerId                                                                \n",
       "1                   0       3  22.0   7.2500       0          1        0   \n",
       "2                   1       1  38.0  71.2833       1          1        0   \n",
       "3                   1       3  26.0   7.9250       1          0        0   \n",
       "4                   1       1  35.0  53.1000       1          1        0   \n",
       "5                   0       3  35.0   8.0500       0          0        0   \n",
       "\n",
       "             Cabin_C  Cabin_D  Cabin_E  Cabin_F  Cabin_G  Cabin_T  Embarked_Q  \\\n",
       "PassengerId                                                                     \n",
       "1                  0        0        0        0        0        0           0   \n",
       "2                  1        0        0        0        0        0           0   \n",
       "3                  0        0        0        0        0        0           0   \n",
       "4                  1        0        0        0        0        0           0   \n",
       "5                  0        0        0        0        0        0           0   \n",
       "\n",
       "             Embarked_S  \n",
       "PassengerId              \n",
       "1                     1  \n",
       "2                     0  \n",
       "3                     1  \n",
       "4                     1  \n",
       "5                     1  "
      ]
     },
     "execution_count": 27,
     "metadata": {},
     "output_type": "execute_result"
    }
   ],
   "source": [
    "df.head()"
   ]
  },
  {
   "cell_type": "markdown",
   "id": "c727346b",
   "metadata": {},
   "source": [
    "#### Models"
   ]
  },
  {
   "cell_type": "code",
   "execution_count": 128,
   "id": "104e8c61",
   "metadata": {},
   "outputs": [],
   "source": [
    "from sklearn.model_selection import KFold, GridSearchCV, train_test_split\n",
    "\n",
    "X_train, X_test, y_train, y_test = train_test_split(X_, y, test_size=0.2, random_state=42)"
   ]
  },
  {
   "cell_type": "markdown",
   "id": "ee32a6a4",
   "metadata": {},
   "source": [
    "Logistic regression"
   ]
  },
  {
   "cell_type": "code",
   "execution_count": 129,
   "id": "255d363d",
   "metadata": {},
   "outputs": [
    {
     "data": {
      "text/plain": [
       "GridSearchCV(cv=10,\n",
       "             estimator=Pipeline(steps=[('scaler_lr', StandardScaler()),\n",
       "                                       ('model_lr', LogisticRegression())]),\n",
       "             param_grid={'model_lr__C': array([0.01      , 0.06210526, 0.11421053, 0.16631579, 0.21842105,\n",
       "       0.27052632, 0.32263158, 0.37473684, 0.42684211, 0.47894737,\n",
       "       0.53105263, 0.58315789, 0.63526316, 0.68736842, 0.73947368,\n",
       "       0.79157895, 0.84368421, 0.89578947, 0.94789474, 1.        ])},\n",
       "             scoring='accuracy')"
      ]
     },
     "execution_count": 129,
     "metadata": {},
     "output_type": "execute_result"
    }
   ],
   "source": [
    "from sklearn.linear_model import LogisticRegression\n",
    "from sklearn.pipeline import Pipeline\n",
    "from sklearn.preprocessing import StandardScaler\n",
    "from sklearn.model_selection import GridSearchCV\n",
    "from sklearn.metrics import RocCurveDisplay, PrecisionRecallDisplay\n",
    "from sklearn.calibration import CalibrationDisplay\n",
    "\n",
    "pipe_lr = Pipeline([\n",
    "    ('scaler_lr', StandardScaler()),\n",
    "    ('model_lr', LogisticRegression())\n",
    "])\n",
    "\n",
    "params_lr = {\n",
    "    'model_lr__C': np.linspace(0.01, 1, num=20)\n",
    "}\n",
    "\n",
    "search_lr = GridSearchCV(pipe_lr, params_lr, scoring='accuracy', cv=10)\n",
    "search_lr.fit(X_train, y_train)"
   ]
  },
  {
   "cell_type": "code",
   "execution_count": 130,
   "id": "debd4efc",
   "metadata": {},
   "outputs": [],
   "source": [
    "def get_model_score(model, model_name):\n",
    "    print(f\"{model_name}'s train accuracy:\\t {model.score(X_train, y_train)}\")\n",
    "    print(f\"{model_name}'s test accuracy:\\t {model.score(X_test, y_test)}\")\n",
    "    \n",
    "#     PrecisionRecallDisplay.from_estimator(model, X_test, y_test)\n",
    "#     plt.title(f'PR-Curve for {model_name}')\n",
    "    \n",
    "#     RocCurveDisplay.from_estimator(model, X_test, y_test)\n",
    "#     plt.title(f'ROC-Curve for {model_name}')\n",
    "    \n",
    "#     CalibrationDisplay.from_estimator(model, X_test, y_test, n_bins=15)\n",
    "#     plt.title(f'Calibration for {model_name}')"
   ]
  },
  {
   "cell_type": "code",
   "execution_count": 131,
   "id": "8ddd23eb",
   "metadata": {},
   "outputs": [
    {
     "name": "stdout",
     "output_type": "stream",
     "text": [
      "Logistic regression's train accuracy:\t 0.8398876404494382\n",
      "Logistic regression's test accuracy:\t 0.8212290502793296\n"
     ]
    }
   ],
   "source": [
    "get_model_score(search_lr.best_estimator_, \"Logistic regression\")"
   ]
  },
  {
   "cell_type": "markdown",
   "id": "793e8094",
   "metadata": {},
   "source": [
    "Ridge regression"
   ]
  },
  {
   "cell_type": "code",
   "execution_count": 132,
   "id": "ebf4769b",
   "metadata": {},
   "outputs": [
    {
     "data": {
      "text/plain": [
       "GridSearchCV(cv=10,\n",
       "             estimator=Pipeline(steps=[('scaler_ridge', StandardScaler()),\n",
       "                                       ('model_ridge', RidgeClassifier())]),\n",
       "             param_grid={'model_ridge__alpha': array([-10.        ,  -9.7979798 ,  -9.5959596 ,  -9.39393939,\n",
       "        -9.19191919,  -8.98989899,  -8.78787879,  -8.58585859,\n",
       "        -8.38383838,  -8.18181818,  -7.97979798,  -7.77777778,\n",
       "        -7.57575758,  -7.37373737,  -7.17171717,  -6.96969697,\n",
       "        -6.76767677,...\n",
       "         3.73737374,   3.93939394,   4.14141414,   4.34343434,\n",
       "         4.54545455,   4.74747475,   4.94949495,   5.15151515,\n",
       "         5.35353535,   5.55555556,   5.75757576,   5.95959596,\n",
       "         6.16161616,   6.36363636,   6.56565657,   6.76767677,\n",
       "         6.96969697,   7.17171717,   7.37373737,   7.57575758,\n",
       "         7.77777778,   7.97979798,   8.18181818,   8.38383838,\n",
       "         8.58585859,   8.78787879,   8.98989899,   9.19191919,\n",
       "         9.39393939,   9.5959596 ,   9.7979798 ,  10.        ])},\n",
       "             scoring='accuracy')"
      ]
     },
     "execution_count": 132,
     "metadata": {},
     "output_type": "execute_result"
    }
   ],
   "source": [
    "from sklearn.linear_model import RidgeClassifier\n",
    "\n",
    "pipe_ridge = Pipeline([\n",
    "    ('scaler_ridge', StandardScaler()),\n",
    "    ('model_ridge', RidgeClassifier())\n",
    "])\n",
    "\n",
    "params_ridge = {\n",
    "    'model_ridge__alpha': np.linspace(-10, 10, 100)\n",
    "}\n",
    "\n",
    "search_ridge = GridSearchCV(pipe_ridge, params_ridge, scoring='accuracy', cv=10)\n",
    "search_ridge.fit(X_train, y_train)"
   ]
  },
  {
   "cell_type": "code",
   "execution_count": 133,
   "id": "40103764",
   "metadata": {},
   "outputs": [
    {
     "name": "stdout",
     "output_type": "stream",
     "text": [
      "Ridge regression's train accuracy:\t 0.8328651685393258\n",
      "Ridge regression's test accuracy:\t 0.8156424581005587\n"
     ]
    }
   ],
   "source": [
    "get_model_score(search_ridge.best_estimator_, \"Ridge regression\")"
   ]
  },
  {
   "cell_type": "markdown",
   "id": "f05995ee",
   "metadata": {},
   "source": [
    "Decision tree classifier"
   ]
  },
  {
   "cell_type": "code",
   "execution_count": 135,
   "id": "ba53c245",
   "metadata": {},
   "outputs": [
    {
     "data": {
      "text/plain": [
       "GridSearchCV(cv=10,\n",
       "             estimator=Pipeline(steps=[('scaler_dt', StandardScaler()),\n",
       "                                       ('model_dt', DecisionTreeClassifier())]),\n",
       "             n_jobs=-1,\n",
       "             param_grid={'model_dt__criterion': ['gini', 'entropy'],\n",
       "                         'model_dt__max_depth': range(1, 20, 5),\n",
       "                         'model_dt__min_samples_leaf': range(10, 100, 10),\n",
       "                         'model_dt__min_samples_split': range(10, 100, 10)},\n",
       "             scoring='accuracy')"
      ]
     },
     "execution_count": 135,
     "metadata": {},
     "output_type": "execute_result"
    }
   ],
   "source": [
    "from sklearn.tree import DecisionTreeClassifier\n",
    "\n",
    "pipe_dt = Pipeline([\n",
    "    ('scaler_dt', StandardScaler()),\n",
    "    ('model_dt', DecisionTreeClassifier())\n",
    "])\n",
    "\n",
    "params_dt = {\n",
    "    'model_dt__criterion': ['gini', 'entropy'],\n",
    "    'model_dt__max_depth': range(1, 20, 5),\n",
    "    'model_dt__min_samples_leaf': range(10, 100, 10),\n",
    "    'model_dt__min_samples_split': range(10, 100, 10)\n",
    "}\n",
    "search_dt = GridSearchCV(pipe_dt, params_dt, scoring='accuracy', cv=10, n_jobs=-1)\n",
    "search_dt.fit(X_train, y_train)"
   ]
  },
  {
   "cell_type": "code",
   "execution_count": 136,
   "id": "10a4b6d9",
   "metadata": {},
   "outputs": [
    {
     "data": {
      "text/plain": [
       "{'model_dt__criterion': 'entropy',\n",
       " 'model_dt__max_depth': 6,\n",
       " 'model_dt__min_samples_leaf': 40,\n",
       " 'model_dt__min_samples_split': 10}"
      ]
     },
     "execution_count": 136,
     "metadata": {},
     "output_type": "execute_result"
    }
   ],
   "source": [
    "search_dt.best_params_"
   ]
  },
  {
   "cell_type": "code",
   "execution_count": 137,
   "id": "3a513c3b",
   "metadata": {},
   "outputs": [
    {
     "name": "stdout",
     "output_type": "stream",
     "text": [
      "Decision tree's train accuracy:\t 0.827247191011236\n",
      "Decision tree's test accuracy:\t 0.8044692737430168\n"
     ]
    }
   ],
   "source": [
    "get_model_score(search_dt, 'Decision tree')"
   ]
  },
  {
   "cell_type": "markdown",
   "id": "260dc238",
   "metadata": {},
   "source": [
    "Random forest"
   ]
  },
  {
   "cell_type": "code",
   "execution_count": 170,
   "id": "fe18ed8a",
   "metadata": {},
   "outputs": [
    {
     "data": {
      "text/plain": [
       "RandomizedSearchCV(cv=10,\n",
       "                   estimator=Pipeline(steps=[('scaler_rf', StandardScaler()),\n",
       "                                             ('model_rf',\n",
       "                                              RandomForestClassifier())]),\n",
       "                   n_jobs=-1,\n",
       "                   param_distributions={'model_rf__max_depth': range(1, 40),\n",
       "                                        'model_rf__min_samples_leaf': range(1, 101, 10),\n",
       "                                        'model_rf__min_samples_split': range(1, 101, 10),\n",
       "                                        'model_rf__n_estimators': range(10, 50, 2)},\n",
       "                   scoring='accuracy')"
      ]
     },
     "execution_count": 170,
     "metadata": {},
     "output_type": "execute_result"
    }
   ],
   "source": [
    "from sklearn.ensemble import RandomForestClassifier\n",
    "from sklearn.model_selection import RandomizedSearchCV\n",
    "\n",
    "pipe_rf = Pipeline([\n",
    "    ('scaler_rf', StandardScaler()),\n",
    "    ('model_rf', RandomForestClassifier())\n",
    "])\n",
    "\n",
    "params_rf = {\n",
    "    'model_rf__max_depth': range(1, 40, 1),\n",
    "    'model_rf__n_estimators': range(10, 50, 2),\n",
    "    'model_rf__min_samples_leaf': range(1, 101, 10),\n",
    "    'model_rf__min_samples_split': range(1, 101, 10)\n",
    "}\n",
    "search_rf = RandomizedSearchCV(pipe_rf, params_rf, scoring='accuracy', cv=10, n_jobs=-1)\n",
    "search_rf.fit(X_train, y_train)"
   ]
  },
  {
   "cell_type": "code",
   "execution_count": 171,
   "id": "c879d42e",
   "metadata": {
    "scrolled": true
   },
   "outputs": [
    {
     "data": {
      "text/plain": [
       "{'model_rf__n_estimators': 28,\n",
       " 'model_rf__min_samples_split': 41,\n",
       " 'model_rf__min_samples_leaf': 1,\n",
       " 'model_rf__max_depth': 11}"
      ]
     },
     "execution_count": 171,
     "metadata": {},
     "output_type": "execute_result"
    }
   ],
   "source": [
    "search_rf.best_params_"
   ]
  },
  {
   "cell_type": "code",
   "execution_count": 172,
   "id": "16b43d09",
   "metadata": {},
   "outputs": [
    {
     "name": "stdout",
     "output_type": "stream",
     "text": [
      "Random forest's train accuracy:\t 0.8623595505617978\n",
      "Random forest's test accuracy:\t 0.8100558659217877\n"
     ]
    }
   ],
   "source": [
    "get_model_score(search_rf, 'Random forest')"
   ]
  },
  {
   "cell_type": "markdown",
   "id": "30bea684",
   "metadata": {},
   "source": [
    "Support Vector Machine"
   ]
  },
  {
   "cell_type": "code",
   "execution_count": 143,
   "id": "39022b44",
   "metadata": {},
   "outputs": [
    {
     "data": {
      "text/plain": [
       "GridSearchCV(cv=10,\n",
       "             estimator=Pipeline(steps=[('scaler_svm', StandardScaler()),\n",
       "                                       ('model_svm', SVC())]),\n",
       "             param_grid={'model_svm__C': array([0.01, 0.12, 0.23, 0.34, 0.45, 0.56, 0.67, 0.78, 0.89, 1.  ])},\n",
       "             scoring='accuracy')"
      ]
     },
     "execution_count": 143,
     "metadata": {},
     "output_type": "execute_result"
    }
   ],
   "source": [
    "from sklearn.svm import SVC\n",
    "\n",
    "pipe_svm = Pipeline([\n",
    "    ('scaler_svm', StandardScaler()),\n",
    "    ('model_svm', SVC())\n",
    "])\n",
    "\n",
    "params_svm = {\n",
    "    'model_svm__C': np.linspace(0.01, 1, num=10)\n",
    "}\n",
    "\n",
    "search_svm = GridSearchCV(pipe_svm, params_svm, scoring='accuracy', cv=10)\n",
    "search_svm.fit(X_train, y_train)"
   ]
  },
  {
   "cell_type": "code",
   "execution_count": 144,
   "id": "20d9e7c7",
   "metadata": {},
   "outputs": [
    {
     "name": "stdout",
     "output_type": "stream",
     "text": [
      "SVM's train accuracy:\t 0.8497191011235955\n",
      "SVM's test accuracy:\t 0.8100558659217877\n"
     ]
    }
   ],
   "source": [
    "get_model_score(search_svm, 'SVM')"
   ]
  },
  {
   "cell_type": "markdown",
   "id": "ce2b20cc",
   "metadata": {},
   "source": [
    "KNearestNeighbors"
   ]
  },
  {
   "cell_type": "code",
   "execution_count": 161,
   "id": "bc44e51c",
   "metadata": {},
   "outputs": [
    {
     "data": {
      "text/plain": [
       "GridSearchCV(cv=10,\n",
       "             estimator=Pipeline(steps=[('scaler_knn', StandardScaler()),\n",
       "                                       ('model_knn', KNeighborsClassifier())]),\n",
       "             param_grid={'model_knn__n_neighbors': range(1, 30)},\n",
       "             scoring='accuracy')"
      ]
     },
     "execution_count": 161,
     "metadata": {},
     "output_type": "execute_result"
    }
   ],
   "source": [
    "from sklearn.neighbors import KNeighborsClassifier\n",
    "\n",
    "pipe_knn = Pipeline([\n",
    "    ('scaler_knn', StandardScaler()),\n",
    "    ('model_knn', KNeighborsClassifier())\n",
    "])\n",
    "\n",
    "params_knn = {\n",
    "    'model_knn__n_neighbors': range(1, 30)\n",
    "}\n",
    "\n",
    "search_knn = GridSearchCV(pipe_knn, params_knn, scoring='accuracy', cv=10)\n",
    "search_knn.fit(X_train, y_train)"
   ]
  },
  {
   "cell_type": "code",
   "execution_count": 162,
   "id": "c1cb120c",
   "metadata": {},
   "outputs": [
    {
     "name": "stdout",
     "output_type": "stream",
     "text": [
      "KNN's train accuracy:\t 0.848314606741573\n",
      "KNN's test accuracy:\t 0.8100558659217877\n"
     ]
    }
   ],
   "source": [
    "get_model_score(search_knn, 'KNN')"
   ]
  },
  {
   "cell_type": "markdown",
   "id": "fb5989ee",
   "metadata": {},
   "source": [
    "Gradient boosting"
   ]
  },
  {
   "cell_type": "code",
   "execution_count": 179,
   "id": "c286d87a",
   "metadata": {
    "scrolled": true
   },
   "outputs": [
    {
     "data": {
      "text/plain": [
       "RandomizedSearchCV(cv=5,\n",
       "                   estimator=Pipeline(steps=[('scaler_gb', StandardScaler()),\n",
       "                                             ('model_gb',\n",
       "                                              GradientBoostingClassifier())]),\n",
       "                   n_jobs=-1,\n",
       "                   param_distributions={'model_gb__max_depth': range(1, 40, 2),\n",
       "                                        'model_gb__min_samples_leaf': range(1, 101, 10),\n",
       "                                        'model_gb__min_samples_split': range(1, 101, 10),\n",
       "                                        'model_gb__n_estimators': range(1, 50)},\n",
       "                   scoring='accuracy')"
      ]
     },
     "execution_count": 179,
     "metadata": {},
     "output_type": "execute_result"
    }
   ],
   "source": [
    "from sklearn.ensemble import GradientBoostingClassifier\n",
    "\n",
    "pipe_gb = Pipeline([\n",
    "    ('scaler_gb', StandardScaler()),\n",
    "    ('model_gb', GradientBoostingClassifier())\n",
    "])\n",
    "\n",
    "params_gb = {\n",
    "    'model_gb__max_depth': range(1, 40, 2),\n",
    "    'model_gb__n_estimators': range(1, 50, 1),\n",
    "    'model_gb__min_samples_leaf': range(1, 101, 10),\n",
    "    'model_gb__min_samples_split': range(1, 101, 10)\n",
    "}\n",
    "search_gb = RandomizedSearchCV(pipe_gb, params_gb, scoring='accuracy', cv=5, n_jobs=-1)\n",
    "search_gb.fit(X_train, y_train)"
   ]
  },
  {
   "cell_type": "code",
   "execution_count": 180,
   "id": "b010dfb1",
   "metadata": {},
   "outputs": [
    {
     "name": "stdout",
     "output_type": "stream",
     "text": [
      "Gradient boosting's train accuracy:\t 0.8679775280898876\n",
      "Gradient boosting's test accuracy:\t 0.8044692737430168\n"
     ]
    }
   ],
   "source": [
    "get_model_score(search_gb, 'Gradient boosting')"
   ]
  },
  {
   "cell_type": "markdown",
   "id": "8cc25fbd",
   "metadata": {},
   "source": [
    "Test data preprocessing"
   ]
  },
  {
   "cell_type": "markdown",
   "id": "107aaf4c",
   "metadata": {},
   "source": [
    "#### TODO:"
   ]
  },
  {
   "cell_type": "code",
   "execution_count": 186,
   "id": "a3a31bef",
   "metadata": {},
   "outputs": [],
   "source": [
    "from sklearn.base import BaseEstimator, TransformerMixin\n",
    "\n",
    "class MetaTrasformer(BaseEstimator, TransformerMixin):\n",
    "    \n",
    "    def __init__(self, columns_to_encode=[], target_name='Survived'):\n",
    "        self.columns_to_encode = columns_to_encode\n",
    "        self.target_name = target_name\n",
    "    \n",
    "    \n",
    "    def fit(self, X, y):\n",
    "        return self\n",
    "    \n",
    "    \n",
    "    def transform(self, X, y=None):\n",
    "        X_ = pd.get_dummies(X[self.columns_to_encode] \\\n",
    "                                   , prefix=self.columns_to_encode, drop_first=True)\n",
    "        X_ = pd.concat((X_.drop(self.columns_to_encode, axis=1), ohe_piece), axis=1)\n",
    "        \n",
    "        return X_"
   ]
  },
  {
   "cell_type": "code",
   "execution_count": 187,
   "id": "0b0a9e42",
   "metadata": {},
   "outputs": [
    {
     "data": {
      "text/plain": [
       "MetaTrasformer(columns_to_encode=['Pclass', 'Sex', 'Embarked', 'Title'])"
      ]
     },
     "execution_count": 187,
     "metadata": {},
     "output_type": "execute_result"
    }
   ],
   "source": [
    "tr = MetaTrasformer(categorical_columns)\n",
    "\n",
    "tr.fit(X, y)"
   ]
  },
  {
   "cell_type": "code",
   "execution_count": 191,
   "id": "d44de978",
   "metadata": {},
   "outputs": [
    {
     "data": {
      "text/html": [
       "<div>\n",
       "<style scoped>\n",
       "    .dataframe tbody tr th:only-of-type {\n",
       "        vertical-align: middle;\n",
       "    }\n",
       "\n",
       "    .dataframe tbody tr th {\n",
       "        vertical-align: top;\n",
       "    }\n",
       "\n",
       "    .dataframe thead th {\n",
       "        text-align: right;\n",
       "    }\n",
       "</style>\n",
       "<table border=\"1\" class=\"dataframe\">\n",
       "  <thead>\n",
       "    <tr style=\"text-align: right;\">\n",
       "      <th></th>\n",
       "      <th>Survived</th>\n",
       "      <th>Pclass</th>\n",
       "      <th>Sex</th>\n",
       "      <th>Age</th>\n",
       "      <th>Fare</th>\n",
       "      <th>Embarked</th>\n",
       "      <th>Title</th>\n",
       "      <th>FamilySize</th>\n",
       "    </tr>\n",
       "  </thead>\n",
       "  <tbody>\n",
       "    <tr>\n",
       "      <th>0</th>\n",
       "      <td>0</td>\n",
       "      <td>3</td>\n",
       "      <td>male</td>\n",
       "      <td>22.0</td>\n",
       "      <td>7.25</td>\n",
       "      <td>S</td>\n",
       "      <td>Mr</td>\n",
       "      <td>2</td>\n",
       "    </tr>\n",
       "  </tbody>\n",
       "</table>\n",
       "</div>"
      ],
      "text/plain": [
       "   Survived  Pclass   Sex   Age  Fare Embarked Title  FamilySize\n",
       "0         0       3  male  22.0  7.25        S    Mr           2"
      ]
     },
     "execution_count": 191,
     "metadata": {},
     "output_type": "execute_result"
    }
   ],
   "source": [
    "df.head(1)"
   ]
  },
  {
   "cell_type": "code",
   "execution_count": 194,
   "id": "3e5bb1aa",
   "metadata": {},
   "outputs": [
    {
     "data": {
      "text/html": [
       "<div>\n",
       "<style scoped>\n",
       "    .dataframe tbody tr th:only-of-type {\n",
       "        vertical-align: middle;\n",
       "    }\n",
       "\n",
       "    .dataframe tbody tr th {\n",
       "        vertical-align: top;\n",
       "    }\n",
       "\n",
       "    .dataframe thead th {\n",
       "        text-align: right;\n",
       "    }\n",
       "</style>\n",
       "<table border=\"1\" class=\"dataframe\">\n",
       "  <thead>\n",
       "    <tr style=\"text-align: right;\">\n",
       "      <th></th>\n",
       "      <th>Age</th>\n",
       "      <th>Fare</th>\n",
       "      <th>FamilySize</th>\n",
       "      <th>Pclass_2</th>\n",
       "      <th>Pclass_3</th>\n",
       "      <th>Sex_male</th>\n",
       "      <th>Embarked_Q</th>\n",
       "      <th>Embarked_S</th>\n",
       "      <th>Title_ Col</th>\n",
       "      <th>Title_ Don</th>\n",
       "      <th>...</th>\n",
       "      <th>Title_ Master</th>\n",
       "      <th>Title_ Miss</th>\n",
       "      <th>Title_ Mlle</th>\n",
       "      <th>Title_ Mme</th>\n",
       "      <th>Title_ Mr</th>\n",
       "      <th>Title_ Mrs</th>\n",
       "      <th>Title_ Ms</th>\n",
       "      <th>Title_ Rev</th>\n",
       "      <th>Title_ Sir</th>\n",
       "      <th>Title_ the Countess</th>\n",
       "    </tr>\n",
       "  </thead>\n",
       "  <tbody>\n",
       "    <tr>\n",
       "      <th>0</th>\n",
       "      <td>22.0</td>\n",
       "      <td>7.25</td>\n",
       "      <td>2</td>\n",
       "      <td>0</td>\n",
       "      <td>1</td>\n",
       "      <td>1</td>\n",
       "      <td>0</td>\n",
       "      <td>1</td>\n",
       "      <td>0</td>\n",
       "      <td>0</td>\n",
       "      <td>...</td>\n",
       "      <td>0</td>\n",
       "      <td>0</td>\n",
       "      <td>0</td>\n",
       "      <td>0</td>\n",
       "      <td>1</td>\n",
       "      <td>0</td>\n",
       "      <td>0</td>\n",
       "      <td>0</td>\n",
       "      <td>0</td>\n",
       "      <td>0</td>\n",
       "    </tr>\n",
       "  </tbody>\n",
       "</table>\n",
       "<p>1 rows × 24 columns</p>\n",
       "</div>"
      ],
      "text/plain": [
       "    Age  Fare  FamilySize  Pclass_2  Pclass_3  Sex_male  Embarked_Q  \\\n",
       "0  22.0  7.25           2         0         1         1           0   \n",
       "\n",
       "   Embarked_S  Title_ Col  Title_ Don  ...  Title_ Master  Title_ Miss  \\\n",
       "0           1           0           0  ...              0            0   \n",
       "\n",
       "   Title_ Mlle  Title_ Mme  Title_ Mr  Title_ Mrs  Title_ Ms  Title_ Rev  \\\n",
       "0            0           0          1           0          0           0   \n",
       "\n",
       "   Title_ Sir  Title_ the Countess  \n",
       "0           0                    0  \n",
       "\n",
       "[1 rows x 24 columns]"
      ]
     },
     "execution_count": 194,
     "metadata": {},
     "output_type": "execute_result"
    }
   ],
   "source": [
    "X_.head(1)"
   ]
  },
  {
   "cell_type": "code",
   "execution_count": 218,
   "id": "e56b827b",
   "metadata": {},
   "outputs": [
    {
     "data": {
      "text/plain": [
       "set()"
      ]
     },
     "execution_count": 218,
     "metadata": {},
     "output_type": "execute_result"
    }
   ],
   "source": [
    "set(X_.columns).difference(set(test_df.columns))"
   ]
  },
  {
   "cell_type": "code",
   "execution_count": 217,
   "id": "2f45b7a1",
   "metadata": {},
   "outputs": [
    {
     "data": {
      "text/plain": [
       "{'Title_ Dona'}"
      ]
     },
     "execution_count": 217,
     "metadata": {},
     "output_type": "execute_result"
    }
   ],
   "source": [
    "set(test_df.columns).difference(set(X_.columns))"
   ]
  },
  {
   "cell_type": "code",
   "execution_count": 229,
   "id": "9690ab54",
   "metadata": {},
   "outputs": [],
   "source": [
    "test_df = pd.read_csv('test.csv')\n",
    "indexes = test_df.PassengerId\n",
    "test_df = test_df.drop('PassengerId', axis=1)\n",
    "\n",
    "\n",
    "test_df.Name = test_df.Name.str.split(',').str[1]\n",
    "\n",
    "test_df['Title'] = test_df.Name.str.split('.').str[0]\n",
    "test_df['FamilySize'] = test_df.SibSp + test_df.Parch + 1\n",
    "\n",
    "test_df.Age = test_df.Age.fillna(\n",
    "    test_df.groupby('Sex').Age.transform('mean')\n",
    ")\n",
    "\n",
    "test_df.Embarked.fillna(\n",
    "    df.Embarked.value_counts().index[0], inplace=True\n",
    ")\n",
    "\n",
    "test_df.Fare.fillna(\n",
    "    df.Fare.mean(), inplace=True\n",
    ")\n",
    "\n",
    "\n",
    "test_df.drop(['Name', 'Ticket', 'Cabin', 'SibSp', 'Parch'], axis=1, inplace=True)\n",
    "# categorical_columns = test_df.loc[:, test_df.dtypes == object].columns\n",
    "\n",
    "# test_df['age_outlier'] =  ((test_df.Age > lower_age_bound) & (test_df.Age < upper_age_bound))\n",
    "\n",
    "\n",
    "for col in categorical_columns:\n",
    "    test_df = pd.concat(\n",
    "        (test_df.drop(col, axis=1), pd.get_dummies(test_df[col], prefix=col, drop_first=True))\n",
    "        , axis=1\n",
    "    )\n",
    "\n",
    "\n",
    "missing = ['Title_ Col',\n",
    " 'Title_ Don',\n",
    " 'Title_ Jonkheer',\n",
    " 'Title_ Lady',\n",
    " 'Title_ Major',\n",
    " 'Title_ Mlle',\n",
    " 'Title_ Mme',\n",
    " 'Title_ Sir',\n",
    " 'Title_ the Countess']\n",
    "\n",
    "for col in missing:\n",
    "    test_df[col] = np.zeros(test_df.shape[0])\n",
    "test_df = test_df.drop('Title_ Dona', axis=1)"
   ]
  },
  {
   "cell_type": "code",
   "execution_count": 220,
   "id": "bbf6111a",
   "metadata": {
    "scrolled": true
   },
   "outputs": [
    {
     "data": {
      "text/plain": [
       "True"
      ]
     },
     "execution_count": 220,
     "metadata": {},
     "output_type": "execute_result"
    }
   ],
   "source": [
    "set(test_df.columns) == set(X_.columns)"
   ]
  },
  {
   "cell_type": "code",
   "execution_count": 221,
   "id": "fef0f060",
   "metadata": {},
   "outputs": [
    {
     "data": {
      "text/plain": [
       "False"
      ]
     },
     "execution_count": 221,
     "metadata": {},
     "output_type": "execute_result"
    }
   ],
   "source": [
    "test_df.isna().any().any()"
   ]
  },
  {
   "cell_type": "code",
   "execution_count": 222,
   "id": "a007347a",
   "metadata": {},
   "outputs": [],
   "source": [
    "models = {\n",
    "    'lr': search_lr,\n",
    "    'ridge': search_ridge,\n",
    "    'dt': search_dt,\n",
    "    'rf': search_rf,\n",
    "    'svm': search_svm,\n",
    "    'knn': search_knn,\n",
    "    'gb': search_gb\n",
    "}"
   ]
  },
  {
   "cell_type": "code",
   "execution_count": 223,
   "id": "96aa3588",
   "metadata": {},
   "outputs": [
    {
     "data": {
      "text/html": [
       "<div>\n",
       "<style scoped>\n",
       "    .dataframe tbody tr th:only-of-type {\n",
       "        vertical-align: middle;\n",
       "    }\n",
       "\n",
       "    .dataframe tbody tr th {\n",
       "        vertical-align: top;\n",
       "    }\n",
       "\n",
       "    .dataframe thead th {\n",
       "        text-align: right;\n",
       "    }\n",
       "</style>\n",
       "<table border=\"1\" class=\"dataframe\">\n",
       "  <thead>\n",
       "    <tr style=\"text-align: right;\">\n",
       "      <th></th>\n",
       "      <th>Sex</th>\n",
       "      <th>Embarked</th>\n",
       "      <th>Title</th>\n",
       "    </tr>\n",
       "  </thead>\n",
       "  <tbody>\n",
       "    <tr>\n",
       "      <th>count</th>\n",
       "      <td>891</td>\n",
       "      <td>891</td>\n",
       "      <td>891</td>\n",
       "    </tr>\n",
       "    <tr>\n",
       "      <th>unique</th>\n",
       "      <td>2</td>\n",
       "      <td>3</td>\n",
       "      <td>17</td>\n",
       "    </tr>\n",
       "    <tr>\n",
       "      <th>top</th>\n",
       "      <td>male</td>\n",
       "      <td>S</td>\n",
       "      <td>Mr</td>\n",
       "    </tr>\n",
       "    <tr>\n",
       "      <th>freq</th>\n",
       "      <td>577</td>\n",
       "      <td>646</td>\n",
       "      <td>517</td>\n",
       "    </tr>\n",
       "  </tbody>\n",
       "</table>\n",
       "</div>"
      ],
      "text/plain": [
       "         Sex Embarked Title\n",
       "count    891      891   891\n",
       "unique     2        3    17\n",
       "top     male        S    Mr\n",
       "freq     577      646   517"
      ]
     },
     "execution_count": 223,
     "metadata": {},
     "output_type": "execute_result"
    }
   ],
   "source": [
    "df.describe(include=object)"
   ]
  },
  {
   "cell_type": "code",
   "execution_count": 224,
   "id": "35d5777a",
   "metadata": {},
   "outputs": [
    {
     "name": "stdout",
     "output_type": "stream",
     "text": [
      "lr accuracy:\t0.8212290502793296\n",
      "ridge accuracy:\t0.8156424581005587\n",
      "dt accuracy:\t0.8044692737430168\n",
      "rf accuracy:\t0.8100558659217877\n",
      "svm accuracy:\t0.8100558659217877\n",
      "knn accuracy:\t0.8100558659217877\n",
      "gb accuracy:\t0.8044692737430168\n"
     ]
    }
   ],
   "source": [
    "for model_key in models.keys():\n",
    "    print(f'{model_key} accuracy:\\t{models[model_key].score(X_test, y_test)}')"
   ]
  },
  {
   "cell_type": "code",
   "execution_count": 225,
   "id": "92f4c88b",
   "metadata": {},
   "outputs": [],
   "source": [
    "# X_test = test_df\n",
    "\n",
    "# for model_key in models.keys():\n",
    "#     y_pred = models[model_key].predict(X_test)\n",
    "#     result = pd.concat((test_df.reset_index()[['PassengerId']], pd.DataFrame(y_pred)), axis=1)\n",
    "#     result.columns = ['PassengerId', 'Survived']\n",
    "#     result.to_csv(f'result_{model_key}.csv', index=False)"
   ]
  },
  {
   "cell_type": "code",
   "execution_count": 238,
   "id": "23454e33",
   "metadata": {},
   "outputs": [],
   "source": [
    "y_pred = search_gb.predict(test_df)\n",
    "result = pd.concat((indexes \\\n",
    "                        , pd.DataFrame(y_pred).astype(int)), axis=1)\n",
    "\n",
    "result.columns = ['PassengerId', 'Survived']\n",
    "result.to_csv(f'RESULT.csv', index=False)"
   ]
  },
  {
   "cell_type": "code",
   "execution_count": 233,
   "id": "6c96c791",
   "metadata": {},
   "outputs": [
    {
     "data": {
      "text/html": [
       "<div>\n",
       "<style scoped>\n",
       "    .dataframe tbody tr th:only-of-type {\n",
       "        vertical-align: middle;\n",
       "    }\n",
       "\n",
       "    .dataframe tbody tr th {\n",
       "        vertical-align: top;\n",
       "    }\n",
       "\n",
       "    .dataframe thead th {\n",
       "        text-align: right;\n",
       "    }\n",
       "</style>\n",
       "<table border=\"1\" class=\"dataframe\">\n",
       "  <thead>\n",
       "    <tr style=\"text-align: right;\">\n",
       "      <th></th>\n",
       "      <th>PassengerId</th>\n",
       "      <th>Survived</th>\n",
       "    </tr>\n",
       "  </thead>\n",
       "  <tbody>\n",
       "    <tr>\n",
       "      <th>0</th>\n",
       "      <td>892</td>\n",
       "      <td>0</td>\n",
       "    </tr>\n",
       "    <tr>\n",
       "      <th>1</th>\n",
       "      <td>893</td>\n",
       "      <td>0</td>\n",
       "    </tr>\n",
       "    <tr>\n",
       "      <th>2</th>\n",
       "      <td>894</td>\n",
       "      <td>0</td>\n",
       "    </tr>\n",
       "    <tr>\n",
       "      <th>3</th>\n",
       "      <td>895</td>\n",
       "      <td>0</td>\n",
       "    </tr>\n",
       "    <tr>\n",
       "      <th>4</th>\n",
       "      <td>896</td>\n",
       "      <td>0</td>\n",
       "    </tr>\n",
       "  </tbody>\n",
       "</table>\n",
       "</div>"
      ],
      "text/plain": [
       "   PassengerId  Survived\n",
       "0          892         0\n",
       "1          893         0\n",
       "2          894         0\n",
       "3          895         0\n",
       "4          896         0"
      ]
     },
     "execution_count": 233,
     "metadata": {},
     "output_type": "execute_result"
    }
   ],
   "source": [
    "result.head()"
   ]
  },
  {
   "cell_type": "code",
   "execution_count": 234,
   "id": "3f705729",
   "metadata": {},
   "outputs": [
    {
     "data": {
      "text/plain": [
       "0"
      ]
     },
     "execution_count": 234,
     "metadata": {},
     "output_type": "execute_result"
    }
   ],
   "source": [
    "result.Survived.isna().sum()"
   ]
  },
  {
   "cell_type": "code",
   "execution_count": 235,
   "id": "0a9379de",
   "metadata": {},
   "outputs": [
    {
     "data": {
      "text/plain": [
       "(418, 2)"
      ]
     },
     "execution_count": 235,
     "metadata": {},
     "output_type": "execute_result"
    }
   ],
   "source": [
    "result.shape"
   ]
  },
  {
   "cell_type": "code",
   "execution_count": 237,
   "id": "161e774f",
   "metadata": {},
   "outputs": [
    {
     "data": {
      "text/plain": [
       "(418, 11)"
      ]
     },
     "execution_count": 237,
     "metadata": {},
     "output_type": "execute_result"
    }
   ],
   "source": [
    "pd.read_csv('test.csv').shape"
   ]
  }
 ],
 "metadata": {
  "kernelspec": {
   "display_name": "Python 3 (ipykernel)",
   "language": "python",
   "name": "python3"
  },
  "language_info": {
   "codemirror_mode": {
    "name": "ipython",
    "version": 3
   },
   "file_extension": ".py",
   "mimetype": "text/x-python",
   "name": "python",
   "nbconvert_exporter": "python",
   "pygments_lexer": "ipython3",
   "version": "3.9.7"
  }
 },
 "nbformat": 4,
 "nbformat_minor": 5
}
